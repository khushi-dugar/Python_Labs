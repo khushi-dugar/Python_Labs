{
  "cells": [
    {
      "cell_type": "markdown",
      "metadata": {
        "id": "view-in-github",
        "colab_type": "text"
      },
      "source": [
        "<a href=\"https://colab.research.google.com/github/khushi-dugar/Python_Labs/blob/main/Lab_4.ipynb\" target=\"_parent\"><img src=\"https://colab.research.google.com/assets/colab-badge.svg\" alt=\"Open In Colab\"/></a>"
      ]
    },
    {
      "cell_type": "code",
      "execution_count": 1,
      "id": "755ecdb9-5445-4204-9d42-59724073c7f9",
      "metadata": {
        "colab": {
          "base_uri": "https://localhost:8080/"
        },
        "id": "755ecdb9-5445-4204-9d42-59724073c7f9",
        "outputId": "53963bd3-76ee-4f40-eaac-e0274480ec34"
      },
      "outputs": [
        {
          "output_type": "stream",
          "name": "stdout",
          "text": [
            "Enter a string: India is my country. I love my country.\n",
            "Length of the string: 39\n",
            "Substring 'country' found: True\n",
            "Word occurrences: {'my': 2, 'I': 1, 'is': 1, 'India': 1, 'love': 1, 'country.': 2}\n",
            "Khushi Dugar_MCA_A_66\n"
          ]
        }
      ],
      "source": [
        "#1.Write a program to enter a string. Calculate the length of the string. Find the substring country.\n",
        "\n",
        "string = input(\"Enter a string: \")\n",
        "length = len(string)\n",
        "substring = \"country\" in string\n",
        "words = string.split()\n",
        "word_count = {word: words.count(word) for word in set(words)}\n",
        "print(f\"Length of the string: {length}\")\n",
        "print(f\"Substring 'country' found: {substring}\")\n",
        "print(f\"Word occurrences: {word_count}\")\n",
        "print(\"Khushi Dugar_MCA_A_66\")"
      ]
    },
    {
      "cell_type": "code",
      "execution_count": 3,
      "id": "9cfb6888-0c42-430d-a067-025b4a6e0407",
      "metadata": {
        "colab": {
          "base_uri": "https://localhost:8080/"
        },
        "id": "9cfb6888-0c42-430d-a067-025b4a6e0407",
        "outputId": "ee1a577f-8a18-43db-fe76-d900f7c16474"
      },
      "outputs": [
        {
          "output_type": "stream",
          "name": "stdout",
          "text": [
            "Enter comma-separated words: hello,bag,world,hi\n",
            "bag,hello,hi,world\n",
            "Khushi Dugar_MCA_A_66\n"
          ]
        }
      ],
      "source": [
        "#2.Write a program that accepts a comma separated sequence of words as input and prints the words\n",
        "\n",
        "words = input(\"Enter comma-separated words: \").split(',')\n",
        "sorted_words = sorted(words)\n",
        "print(','.join(sorted_words))\n",
        "print(\"Khushi Dugar_MCA_A_66\")"
      ]
    },
    {
      "cell_type": "code",
      "execution_count": 4,
      "id": "40eb9b0f-bf64-486b-93a8-32b1a6863413",
      "metadata": {
        "colab": {
          "base_uri": "https://localhost:8080/"
        },
        "id": "40eb9b0f-bf64-486b-93a8-32b1a6863413",
        "outputId": "858d78fc-2a2b-4d5d-bf52-62697b32d6ba"
      },
      "outputs": [
        {
          "output_type": "stream",
          "name": "stdout",
          "text": [
            "Enter a line (or type 'done' to finish): Hello World\n",
            "Enter a line (or type 'done' to finish): Practice makes Perfect\n",
            "Enter a line (or type 'done' to finish): All good\n",
            "Enter a line (or type 'done' to finish): done\n",
            "HELLO WORLD\n",
            "PRACTICE MAKES PERFECT\n",
            "ALL GOOD\n",
            "Khushi Dugar_MCA_A_66\n"
          ]
        }
      ],
      "source": [
        "#3.Write a program that accepts sequence of lines as input and prints the lines after making all\n",
        "#characters in the sentence capitalized.\n",
        "#Suppose the following input is supplied to the program:\n",
        "#Hello world\n",
        "#Practice makes perfect\n",
        "#Then, the output should be:\n",
        "#HELLO WORLD\n",
        "#PRACTICE MAKES PERFECT\n",
        "lines = []\n",
        "while True:\n",
        "    line = input(\"Enter a line (or type 'done' to finish): \")\n",
        "    if line.lower() == 'done':\n",
        "        break\n",
        "    lines.append(line.upper())\n",
        "print(\"\\n\".join(lines))\n",
        "print(\"Khushi Dugar_MCA_A_66\")"
      ]
    },
    {
      "cell_type": "code",
      "execution_count": 5,
      "id": "2068a729-045d-49ce-a983-86827fe32843",
      "metadata": {
        "colab": {
          "base_uri": "https://localhost:8080/"
        },
        "id": "2068a729-045d-49ce-a983-86827fe32843",
        "outputId": "41bcd38f-fb0d-4725-e249-295031233099"
      },
      "outputs": [
        {
          "output_type": "stream",
          "name": "stdout",
          "text": [
            "Enter whitespace-separated words: hello world and practice makes perfect and hello world again again and hello makes perfect practice world\n",
            "again and hello makes perfect practice world\n",
            "Khushi Dugar_MCA_A_66\n"
          ]
        }
      ],
      "source": [
        "#4.Write a program that accepts a sequence of whitespace separated words as input and prints the\n",
        "\n",
        "words = input(\"Enter whitespace-separated words: \").split()\n",
        "unique_sorted_words = sorted(set(words))\n",
        "print(\" \".join(unique_sorted_words))\n",
        "print(\"Khushi Dugar_MCA_A_66\")"
      ]
    },
    {
      "cell_type": "code",
      "execution_count": 6,
      "id": "098ef55e-782e-4a1b-8edf-b09aa7157b21",
      "metadata": {
        "colab": {
          "base_uri": "https://localhost:8080/"
        },
        "id": "098ef55e-782e-4a1b-8edf-b09aa7157b21",
        "outputId": "dd36d7ed-2089-4db6-b4be-15d6820d04c1"
      },
      "outputs": [
        {
          "output_type": "stream",
          "name": "stdout",
          "text": [
            "Enter a sentence: hello world! 123\n",
            "LETTERS 10\n",
            "DIGITS 3\n",
            "Khushi Dugar_MCA_A_66\n"
          ]
        }
      ],
      "source": [
        "#5.Write a program that accepts a sentence and calculate the number of letters and digits.\n",
        "\n",
        "sentence = input(\"Enter a sentence: \")\n",
        "letters = sum(c.isalpha() for c in sentence)\n",
        "digits = sum(c.isdigit() for c in sentence)\n",
        "print(f\"LETTERS {letters}\")\n",
        "print(f\"DIGITS {digits}\")\n",
        "print(\"Khushi Dugar_MCA_A_66\")"
      ]
    },
    {
      "cell_type": "code",
      "execution_count": 7,
      "id": "47cc59ef-18bb-45d2-bb80-dc15070b87b4",
      "metadata": {
        "colab": {
          "base_uri": "https://localhost:8080/"
        },
        "id": "47cc59ef-18bb-45d2-bb80-dc15070b87b4",
        "outputId": "e82653f7-cdcc-435b-aa24-ab541f65478e"
      },
      "outputs": [
        {
          "output_type": "stream",
          "name": "stdout",
          "text": [
            "Enter a string: Yes\n",
            "Yes\n",
            "Khushi Dugar_MCA_A_66\n"
          ]
        }
      ],
      "source": [
        "#6.Write a program which accepts a string as input to print \"Yes\" if the string is \"yes\" or \"YES\" or \"Yes\",otherwise print \"No\".\n",
        "string = input(\"Enter a string: \")\n",
        "print(\"Yes\" if string.lower() == \"yes\" else \"No\")\n",
        "print(\"Khushi Dugar_MCA_A_66\")"
      ]
    },
    {
      "cell_type": "code",
      "execution_count": 8,
      "id": "329bcf07-adb5-4067-b25d-fdb131ee7829",
      "metadata": {
        "colab": {
          "base_uri": "https://localhost:8080/"
        },
        "id": "329bcf07-adb5-4067-b25d-fdb131ee7829",
        "outputId": "f6e5dada-980f-4787-91c2-1641010c63e9"
      },
      "outputs": [
        {
          "output_type": "stream",
          "name": "stdout",
          "text": [
            "Enter whitespace-separated words: 2 cats and 3 dogs.\n",
            "['2', '3']\n",
            "Khushi Dugar_MCA_A_66\n"
          ]
        }
      ],
      "source": [
        "#7.Write a program which accepts a sequence of words separated by whitespace as input to print the words composed of digits only.\n",
        "words = input(\"Enter whitespace-separated words: \").split()\n",
        "digit_words = [word for word in words if word.isdigit()]\n",
        "print(digit_words)\n",
        "print(\"Khushi Dugar_MCA_A_66\")"
      ]
    },
    {
      "cell_type": "code",
      "execution_count": 9,
      "id": "d0976082-fb20-40ea-a4b4-99cacf701975",
      "metadata": {
        "colab": {
          "base_uri": "https://localhost:8080/"
        },
        "id": "d0976082-fb20-40ea-a4b4-99cacf701975",
        "outputId": "c08199cd-4a33-41b1-fc79-13164b7cdda8"
      },
      "outputs": [
        {
          "output_type": "stream",
          "name": "stdout",
          "text": [
            "Enter a string: abcdefgabc\n",
            "e,1\n",
            "b,2\n",
            "g,1\n",
            "a,2\n",
            "d,1\n",
            "c,2\n",
            "f,1\n",
            "Khushi Dugar_MCA_A_66\n"
          ]
        }
      ],
      "source": [
        "#8.Please write a program which count and print the numbers of each character in a string input by console.\n",
        "string = input(\"Enter a string: \")\n",
        "char_count = {char: string.count(char) for char in set(string)}\n",
        "for char, count in char_count.items():\n",
        "    print(f\"{char},{count}\")\n",
        "print(\"Khushi Dugar_MCA_A_66\")"
      ]
    },
    {
      "cell_type": "code",
      "execution_count": 10,
      "id": "587d9fa1-b021-404a-a1fb-173c1a2f99da",
      "metadata": {
        "colab": {
          "base_uri": "https://localhost:8080/"
        },
        "id": "587d9fa1-b021-404a-a1fb-173c1a2f99da",
        "outputId": "966edb6c-b71a-402a-b8d0-291a5e3e0bba"
      },
      "outputs": [
        {
          "output_type": "stream",
          "name": "stdout",
          "text": [
            "Enter a string: The quick brown Fox jumps over the lazy Dog.\n",
            "Reversed: .goD yzal eht revo spmuj xoF nworb kciuq ehT\n",
            "Is palindrome: False\n",
            "Enter a substring to check: spmuj\n",
            "Ends with 'spmuj': False\n",
            "Capitalized: The Quick Brown Fox Jumps Over The Lazy Dog.\n",
            "Enter another string: I would love to\n",
            "Is anagram: False\n",
            "Without vowels: Th qck brwn Fx jmps vr th lzy Dg.\n",
            "Length of the longest word: 5\n",
            "Khushi Dugar_MCA_A_66\n"
          ]
        }
      ],
      "source": [
        "#9.Write a program that accepts a string\n",
        "\n",
        "string = input(\"Enter a string: \")\n",
        "reversed_string = string[::-1]\n",
        "print(f\"Reversed: {reversed_string}\")\n",
        "is_palindrome = string == reversed_string\n",
        "print(f\"Is palindrome: {is_palindrome}\")\n",
        "substring = input(\"Enter a substring to check: \")\n",
        "ends_with = string.endswith(substring)\n",
        "print(f\"Ends with '{substring}': {ends_with}\")\n",
        "capitalized = string.title()\n",
        "print(f\"Capitalized: {capitalized}\")\n",
        "another_string = input(\"Enter another string: \")\n",
        "is_anagram = sorted(string) == sorted(another_string)\n",
        "print(f\"Is anagram: {is_anagram}\")\n",
        "vowels_removed = ''.join([char for char in string if char.lower() not in 'aeiou'])\n",
        "print(f\"Without vowels: {vowels_removed}\")\n",
        "longest_word_length = max(len(word) for word in string.split())\n",
        "print(f\"Length of the longest word: {longest_word_length}\")\n",
        "print(\"Khushi Dugar_MCA_A_66\")"
      ]
    }
  ],
  "metadata": {
    "kernelspec": {
      "display_name": "Python 3 (ipykernel)",
      "language": "python",
      "name": "python3"
    },
    "language_info": {
      "codemirror_mode": {
        "name": "ipython",
        "version": 3
      },
      "file_extension": ".py",
      "mimetype": "text/x-python",
      "name": "python",
      "nbconvert_exporter": "python",
      "pygments_lexer": "ipython3",
      "version": "3.11.7"
    },
    "colab": {
      "provenance": [],
      "include_colab_link": true
    }
  },
  "nbformat": 4,
  "nbformat_minor": 5
}