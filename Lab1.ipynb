{
  "nbformat": 4,
  "nbformat_minor": 0,
  "metadata": {
    "colab": {
      "provenance": [],
      "include_colab_link": true
    },
    "kernelspec": {
      "name": "python3",
      "display_name": "Python 3"
    },
    "language_info": {
      "name": "python"
    }
  },
  "cells": [
    {
      "cell_type": "markdown",
      "metadata": {
        "id": "view-in-github",
        "colab_type": "text"
      },
      "source": [
        "<a href=\"https://colab.research.google.com/github/khushi-dugar/Python_Labs/blob/main/Lab1.ipynb\" target=\"_parent\"><img src=\"https://colab.research.google.com/assets/colab-badge.svg\" alt=\"Open In Colab\"/></a>"
      ]
    },
    {
      "cell_type": "markdown",
      "source": [
        "Q1 Celsius to Farenheit"
      ],
      "metadata": {
        "id": "laMrNmsPpAlG"
      }
    },
    {
      "cell_type": "code",
      "execution_count": null,
      "metadata": {
        "colab": {
          "base_uri": "https://localhost:8080/"
        },
        "id": "RbAQLNE0hvcY",
        "outputId": "bbd743e2-7af4-4ac5-92b0-32da3cf55ed5"
      },
      "outputs": [
        {
          "output_type": "stream",
          "name": "stdout",
          "text": [
            "Enter temperature in celsius: 100\n",
            "100.00 Celsius is equal to 212.00 farenheit\n",
            "Khushi Dugar_MCA_A_66\n"
          ]
        }
      ],
      "source": [
        "celsius = float(input(\"Enter temperature in celsius: \"))\n",
        "farenheit = (celsius * 1.8) + 32\n",
        "print(\"%.2f Celsius is equal to %.2f farenheit\"%(celsius,farenheit))\n",
        "print(\"Khushi Dugar_MCA_A_66\")"
      ]
    },
    {
      "cell_type": "markdown",
      "source": [
        "Q2 Swap two numbers"
      ],
      "metadata": {
        "id": "NwLnN0Y-pRMX"
      }
    },
    {
      "cell_type": "code",
      "source": [
        "num1 = int(input(\"Enter first number: \"))\n",
        "num2 =int (input(\"Enter second number: \"))\n",
        "\n",
        "print(\"Before Swapping numbers are num1: %d, num2: %d: \" %(num1,num2))\n",
        "temp = num1\n",
        "num1 = num2\n",
        "num2 = temp\n",
        "\n",
        "print(\"After Swapping numbers are num1: %d, num2: %d: \" %(num1,num2))\n",
        "print(\"Khushi Dugar_MCA_A_66\")"
      ],
      "metadata": {
        "colab": {
          "base_uri": "https://localhost:8080/"
        },
        "id": "YQGOQi3clGZ9",
        "outputId": "9305ec3a-410c-46e0-aff0-2d78a3a52644"
      },
      "execution_count": null,
      "outputs": [
        {
          "output_type": "stream",
          "name": "stdout",
          "text": [
            "Enter first number: 20\n",
            "Enter second number: 60\n",
            "Before Swapping numbers are num1: 20, num2: 60: \n",
            "After Swapping numbers are num1: 60, num2: 20: \n",
            "Khushi Dugar_MCA_A_66\n"
          ]
        }
      ]
    },
    {
      "cell_type": "markdown",
      "source": [
        "Q3: Given year is leap year or not"
      ],
      "metadata": {
        "id": "Qu5E__p8sYxG"
      }
    },
    {
      "cell_type": "code",
      "source": [
        "year = int(input(\"Enter a year \"))\n",
        "if (year % 4 == 0 and year % 100 != 0) or (year % 400 == 0):\n",
        "    print(f\"{year} is a leap year.\")\n",
        "else:\n",
        "    print(f\"{year} is not a leap year.\")\n",
        "print(\"Khushi Dugar_MCA_A_66\")"
      ],
      "metadata": {
        "id": "G22Idhrlp049",
        "colab": {
          "base_uri": "https://localhost:8080/"
        },
        "outputId": "e516c605-9c2a-4eae-c055-cf8694d01e74"
      },
      "execution_count": null,
      "outputs": [
        {
          "output_type": "stream",
          "name": "stdout",
          "text": [
            "Enter a year 2021\n",
            "2021 is not a leap year.\n",
            "Khushi Dugar_MCA_A_66\n"
          ]
        }
      ]
    },
    {
      "cell_type": "markdown",
      "source": [
        "Q4. Display reverse of a number"
      ],
      "metadata": {
        "id": "RRQCIrhuhs9Q"
      }
    },
    {
      "cell_type": "code",
      "source": [
        "num = int(input(\"Enter a number \"))\n",
        "\n",
        "num1 = num\n",
        "sum = 0\n",
        "while num1 != 0:\n",
        "  digit = num1 % 10\n",
        "  sum = (sum*10)+digit\n",
        "  num1 = num1 // 10\n",
        "\n",
        "print(f\"Reverse of {num} is {sum}\")\n",
        "print(\"Khushi Dugar_MCA_A_66\")"
      ],
      "metadata": {
        "colab": {
          "base_uri": "https://localhost:8080/"
        },
        "id": "iYQflsvshsgT",
        "outputId": "d802da9e-78d8-47f9-93d6-d348af4d2fcc"
      },
      "execution_count": null,
      "outputs": [
        {
          "output_type": "stream",
          "name": "stdout",
          "text": [
            "Enter a number 132\n",
            "Reverse of 132 is 231\n",
            "Khushi Dugar_MCA_A_66\n"
          ]
        }
      ]
    },
    {
      "cell_type": "markdown",
      "source": [
        "Q5. Factors of a given number"
      ],
      "metadata": {
        "id": "gEZTzv6HjDfg"
      }
    },
    {
      "cell_type": "code",
      "source": [
        "num = int(input(\"Enter a number \"))\n",
        "\n",
        "print(f\"Factors of {num} are: \")\n",
        "for i in range(1, num + 1):\n",
        "  if num % i == 0:\n",
        "    print(i)\n",
        "print(\"Khushi Dugar_MCA_A_66\")\n"
      ],
      "metadata": {
        "colab": {
          "base_uri": "https://localhost:8080/"
        },
        "id": "5D76Im2-jIjo",
        "outputId": "26ab6014-985b-461b-eaf4-0fb6effd5c5e"
      },
      "execution_count": null,
      "outputs": [
        {
          "output_type": "stream",
          "name": "stdout",
          "text": [
            "Enter a number 6\n",
            "Factors of 6 are: \n",
            "1\n",
            "2\n",
            "3\n",
            "6\n"
          ]
        }
      ]
    },
    {
      "cell_type": "markdown",
      "source": [
        "Q6. Generate prime number series up to n"
      ],
      "metadata": {
        "id": "E9NceaC5kFL6"
      }
    },
    {
      "cell_type": "code",
      "source": [
        "n = int(input(\"Enter value for n: \"))\n",
        "\n",
        "print(f\"Prime numbers up to {n} are:\")\n",
        "\n",
        "for i in range(2, n + 1):\n",
        "    is_prime = True\n",
        "    for j in range(2, int(i ** 0.5) + 1):\n",
        "        if i % j == 0:\n",
        "            is_prime = False\n",
        "            break\n",
        "    if is_prime:\n",
        "        print(i)\n",
        "print(\"Khushi Dugar_MCA_A_66\")"
      ],
      "metadata": {
        "colab": {
          "base_uri": "https://localhost:8080/"
        },
        "id": "E0-cwTprjbeg",
        "outputId": "0a3ecc6b-dbd1-49d2-d5d6-2b7aa92a36ff"
      },
      "execution_count": null,
      "outputs": [
        {
          "output_type": "stream",
          "name": "stdout",
          "text": [
            "Enter value for n: 20\n",
            "Prime numbers up to 20 are:\n",
            "2\n",
            "3\n",
            "5\n",
            "7\n",
            "11\n",
            "13\n",
            "17\n",
            "19\n",
            "Khushi Dugar_MCA_A_66\n"
          ]
        }
      ]
    },
    {
      "cell_type": "markdown",
      "source": [
        "Q7. Write a program which makes use of function to display all such numbers which are divisible by 7 but are not a multiple of 5, between 1000 and 2000."
      ],
      "metadata": {
        "id": "gvYeUP3rmVaa"
      }
    },
    {
      "cell_type": "code",
      "source": [
        "def find_numbers():\n",
        "    results = []\n",
        "    for num in range(1000, 2001):\n",
        "        if num % 7 == 0 and num % 5 != 0:\n",
        "            results.append(num)\n",
        "    print(\"Numbers divisible by 7 but not a multiple of 5 between 1000 and 2000 are:\")\n",
        "    print(results)\n",
        "find_numbers()\n",
        "\n",
        "print(\"Khushi Dugar_MCA_A_66\")"
      ],
      "metadata": {
        "colab": {
          "base_uri": "https://localhost:8080/"
        },
        "id": "_OcShLTMmU9V",
        "outputId": "f5b928c1-2fa0-4e93-b220-945daae2c3eb"
      },
      "execution_count": null,
      "outputs": [
        {
          "output_type": "stream",
          "name": "stdout",
          "text": [
            "Numbers divisible by 7 but not a multiple of 5 between 1000 and 2000 are:\n",
            "[1001, 1008, 1022, 1029, 1036, 1043, 1057, 1064, 1071, 1078, 1092, 1099, 1106, 1113, 1127, 1134, 1141, 1148, 1162, 1169, 1176, 1183, 1197, 1204, 1211, 1218, 1232, 1239, 1246, 1253, 1267, 1274, 1281, 1288, 1302, 1309, 1316, 1323, 1337, 1344, 1351, 1358, 1372, 1379, 1386, 1393, 1407, 1414, 1421, 1428, 1442, 1449, 1456, 1463, 1477, 1484, 1491, 1498, 1512, 1519, 1526, 1533, 1547, 1554, 1561, 1568, 1582, 1589, 1596, 1603, 1617, 1624, 1631, 1638, 1652, 1659, 1666, 1673, 1687, 1694, 1701, 1708, 1722, 1729, 1736, 1743, 1757, 1764, 1771, 1778, 1792, 1799, 1806, 1813, 1827, 1834, 1841, 1848, 1862, 1869, 1876, 1883, 1897, 1904, 1911, 1918, 1932, 1939, 1946, 1953, 1967, 1974, 1981, 1988]\n",
            "Khushi Dugar_MCA_A_66\n"
          ]
        }
      ]
    },
    {
      "cell_type": "markdown",
      "source": [
        "Q8. Given number is palindrome or not."
      ],
      "metadata": {
        "id": "iPqDmoSem0fM"
      }
    },
    {
      "cell_type": "code",
      "source": [
        "num = int(input(\"Enter a number: \"))\n",
        "\n",
        "num1 = num\n",
        "sum = 0\n",
        "while num1 != 0:\n",
        "  digit = num1 % 10\n",
        "  sum = sum * 10 + digit\n",
        "  num1 = num1 / 10\n",
        "\n",
        "if sum == num:\n",
        "  print(f\"{num} is a palindrome number\")\n",
        "else:\n",
        "  print(f\"{num} is not a palindrome number\")\n",
        "\n",
        "print(\"Khushi Dugar_MCA_A_66\")"
      ],
      "metadata": {
        "colab": {
          "base_uri": "https://localhost:8080/"
        },
        "id": "cGOHfOscm7aG",
        "outputId": "5df6ea56-3ef7-45b2-a7db-6172ab386196"
      },
      "execution_count": null,
      "outputs": [
        {
          "output_type": "stream",
          "name": "stdout",
          "text": [
            "Enter a number: 252\n",
            "252 is not a palindrome number\n",
            "Khushi Dugar_MCA_A_66\n"
          ]
        }
      ]
    },
    {
      "cell_type": "markdown",
      "source": [
        "Q9.\tWAP to check whether a) is a perfect number b) is an Armstrong number"
      ],
      "metadata": {
        "id": "2XunBx-LshM6"
      }
    },
    {
      "cell_type": "code",
      "source": [
        "num = int(input(\"Enter a number to check if it is a perfect number: \"))\n",
        "\n",
        "sum = 0\n",
        "\n",
        "for i in range (1,num):\n",
        "  if num % i == 0:\n",
        "    sum += i\n",
        "\n",
        "if sum == num:\n",
        "    print(f\"{num} is a perfect number.\")\n",
        "else:\n",
        "    print(f\"{num} is not a perfect number.\")\n",
        "\n",
        "print(\"Khushi Dugar_MCA_A_66\")\n"
      ],
      "metadata": {
        "colab": {
          "base_uri": "https://localhost:8080/"
        },
        "id": "jOFPJR06s2_b",
        "outputId": "0ba9d2ac-2d8a-46e7-a0c5-fe350581e725"
      },
      "execution_count": null,
      "outputs": [
        {
          "output_type": "stream",
          "name": "stdout",
          "text": [
            "Enter a number to check if it is a perfect number: 6\n",
            "6 is a perfect number.\n",
            "Khushi Dugar_MCA_A_66\n"
          ]
        }
      ]
    },
    {
      "cell_type": "code",
      "source": [
        "\n",
        "num = int(input(\"Enter a number to check if it is an Armstrong number: \"))\n",
        "\n",
        "\n",
        "num_str = str(num)\n",
        "num_digits = len(num_str)\n",
        "\n",
        "\n",
        "sum_of_powers = 0\n",
        "\n",
        "\n",
        "for digit in num_str:\n",
        "    sum_of_powers += int(digit) ** num_digits\n",
        "\n",
        "if sum_of_powers == num:\n",
        "    print(f\"{num} is an Armstrong number.\")\n",
        "else:\n",
        "    print(f\"{num} is not an Armstrong number.\")\n",
        "\n",
        "print(\"Khushi Dugar_MCA_A_66\")"
      ],
      "metadata": {
        "colab": {
          "base_uri": "https://localhost:8080/"
        },
        "id": "LJsyJtZMuIhg",
        "outputId": "bf6e131b-19cb-4988-f363-88920b393a9a"
      },
      "execution_count": 1,
      "outputs": [
        {
          "output_type": "stream",
          "name": "stdout",
          "text": [
            "Enter a number to check if it is an Armstrong number: 153\n",
            "153 is an Armstrong number.\n",
            "Khushi Dugar_MCA_A_66\n"
          ]
        }
      ]
    },
    {
      "cell_type": "markdown",
      "source": [
        "Q 10. WAP to generate the Fibonacci series upto n."
      ],
      "metadata": {
        "id": "vYpbHe48t9Pw"
      }
    },
    {
      "cell_type": "code",
      "source": [
        "\n",
        "n = int(input(\"Enter the value for n: \"))\n",
        "\n",
        "a, b = 0, 1\n",
        "print(f\"Fibonacci series up to {n} is:\")\n",
        "while a <= n:\n",
        "    print(a, end=\" \")\n",
        "    a, b = b, a + b\n",
        "\n",
        "print(\"Khushi Dugar_MCA_A_66\")"
      ],
      "metadata": {
        "colab": {
          "base_uri": "https://localhost:8080/"
        },
        "id": "kVDl-f0QuFH-",
        "outputId": "e8bf226a-d03d-4b71-c072-aca65f2861fd"
      },
      "execution_count": 2,
      "outputs": [
        {
          "output_type": "stream",
          "name": "stdout",
          "text": [
            "Enter the value for n: 10\n",
            "Fibonacci series up to 10 is:\n",
            "0 1 1 2 3 5 8 Khushi Dugar_MCA_A_66\n"
          ]
        }
      ]
    },
    {
      "cell_type": "markdown",
      "source": [
        "Q1. WAP to print your name."
      ],
      "metadata": {
        "id": "Z4X8JkGIvBxZ"
      }
    },
    {
      "cell_type": "code",
      "source": [
        "print(\"My name is: Khushi\")"
      ],
      "metadata": {
        "colab": {
          "base_uri": "https://localhost:8080/"
        },
        "id": "-EJgWLN7vc7S",
        "outputId": "6d8cf3fe-ddf3-4c60-ccd0-bd79eef04e2c"
      },
      "execution_count": 3,
      "outputs": [
        {
          "output_type": "stream",
          "name": "stdout",
          "text": [
            "My name is: Khushi\n"
          ]
        }
      ]
    },
    {
      "cell_type": "markdown",
      "source": [
        "Q2. Write a Java program to add two numbers."
      ],
      "metadata": {
        "id": "yVfEOpdWwEs7"
      }
    },
    {
      "cell_type": "code",
      "source": [
        "num1 = int(input(\"Enter first number: \"))\n",
        "num2 = int(input(\"Enter second number: \"))\n",
        "\n",
        "sum = num1+num2\n",
        "\n",
        "print(f\"Sum of numbers are: {sum}\")\n",
        "print(\"Khushi Dugar_MCA_A_66\")4"
      ],
      "metadata": {
        "colab": {
          "base_uri": "https://localhost:8080/"
        },
        "id": "5qeSe8IxvrQ5",
        "outputId": "c76c86b3-2a3c-4b79-c61e-62381c6af233"
      },
      "execution_count": null,
      "outputs": [
        {
          "output_type": "stream",
          "name": "stdout",
          "text": [
            "Enter first number: 62\n",
            "Enter second number: 5\n",
            "Sum of numbers are: 67\n",
            "Khushi Dugar_MCA_A_66\n"
          ]
        }
      ]
    },
    {
      "cell_type": "markdown",
      "source": [
        "Q3. WAP to change temperature from Fahrenheit to Celsius."
      ],
      "metadata": {
        "id": "QwElbe0FwicB"
      }
    },
    {
      "cell_type": "code",
      "source": [
        "\n",
        "fahrenheit = float(input(\"Enter temperature in Fahrenheit: \"))\n",
        "celsius = (fahrenheit - 32) * 5 / 9\n",
        "\n",
        "print(f\"{fahrenheit}° Fahrenheit is equal to {celsius:.2f}° Celsius.\")\n",
        "print(\"Khushi Dugar_MCA_A_66\")"
      ],
      "metadata": {
        "colab": {
          "base_uri": "https://localhost:8080/"
        },
        "id": "yPtcBZdJwbw-",
        "outputId": "11e025d5-c6e7-4c17-cc2d-c5e0c6b1453a"
      },
      "execution_count": 4,
      "outputs": [
        {
          "output_type": "stream",
          "name": "stdout",
          "text": [
            "Enter temperature in Fahrenheit: 100\n",
            "100.0° Fahrenheit is equal to 37.78° Celsius.\n",
            "Khushi Dugar_MCA_A_66\n"
          ]
        }
      ]
    },
    {
      "cell_type": "markdown",
      "source": [
        "Q4. WAP to find area and perimeter of a rectangle."
      ],
      "metadata": {
        "id": "X6RYCtUCxAsB"
      }
    },
    {
      "cell_type": "code",
      "source": [
        "\n",
        "length = float(input(\"Enter the length of the rectangle: \"))\n",
        "width = float(input(\"Enter the width of the rectangle: \"))\n",
        "\n",
        "area = length * width\n",
        "perimeter = 2 * (length + width)\n",
        "\n",
        "print(f\"The area of the rectangle is: {area:.2f}\")\n",
        "print(f\"The perimeter of the rectangle is: {perimeter:.2f}\")\n",
        "print(\"Khushi Dugar_MCA_A_66\")"
      ],
      "metadata": {
        "colab": {
          "base_uri": "https://localhost:8080/"
        },
        "id": "jq4Ab6QKxAQM",
        "outputId": "267834ed-be96-4146-c313-f210f4bbb588"
      },
      "execution_count": 5,
      "outputs": [
        {
          "output_type": "stream",
          "name": "stdout",
          "text": [
            "Enter the length of the rectangle: 23\n",
            "Enter the width of the rectangle: 10\n",
            "The area of the rectangle is: 230.00\n",
            "The perimeter of the rectangle is: 66.00\n",
            "Khushi Dugar_MCA_A_66\n"
          ]
        }
      ]
    },
    {
      "cell_type": "markdown",
      "source": [
        "Q5. WAP to find area and perimeter of a circle."
      ],
      "metadata": {
        "id": "jrCNwyllxX7x"
      }
    },
    {
      "cell_type": "code",
      "source": [
        "\n",
        "pi = 3.14159\n",
        "radius = float(input(\"Enter the radius of the circle: \"))\n",
        "area = pi * radius ** 2\n",
        "\n",
        "circumference = 2 * pi * radius\n",
        "\n",
        "print(f\"The area of the circle is: {area:.2f}\")\n",
        "print(f\"The circumference of the circle is: {circumference:.2f}\")\n",
        "print(\"Khushi Dugar_MCA_A_66\")\n"
      ],
      "metadata": {
        "colab": {
          "base_uri": "https://localhost:8080/"
        },
        "id": "4wgNmAZMxb0E",
        "outputId": "58005d74-b9ae-47b5-cca2-0e65ec49c157"
      },
      "execution_count": 6,
      "outputs": [
        {
          "output_type": "stream",
          "name": "stdout",
          "text": [
            "Enter the radius of the circle: 4\n",
            "The area of the circle is: 50.27\n",
            "The circumference of the circle is: 25.13\n",
            "Khushi Dugar_MCA_A_66\n"
          ]
        }
      ]
    },
    {
      "cell_type": "markdown",
      "source": [
        "Q6. WAP to display whether a number is odd or even."
      ],
      "metadata": {
        "id": "s4FVeLUVylzO"
      }
    },
    {
      "cell_type": "code",
      "source": [
        "num = int(input(\"Enter a number: \"))\n",
        "\n",
        "if num % 2 == 0:\n",
        "  print(f\"{num} is an even number\")\n",
        "else:\n",
        "  print(f\"{num} is an odd number\")\n",
        "\n",
        "print(\"Khushi Dugar_MCA_A_66\")"
      ],
      "metadata": {
        "colab": {
          "base_uri": "https://localhost:8080/"
        },
        "id": "vYLkrJtxyp9V",
        "outputId": "f7763aed-9d1c-49b0-f15a-e73b6edda4f1"
      },
      "execution_count": null,
      "outputs": [
        {
          "output_type": "stream",
          "name": "stdout",
          "text": [
            "Enter a number: 22\n",
            "22 is an even number\n",
            "Khushi Dugar_MCA_A_66\n"
          ]
        }
      ]
    },
    {
      "cell_type": "markdown",
      "source": [
        "Q7. WAP to check if a number is Positive or Negative."
      ],
      "metadata": {
        "id": "c3TriJ5_zEnf"
      }
    },
    {
      "cell_type": "code",
      "source": [
        "num = int(input(\"Enter a number: \"))\n",
        "\n",
        "if num > 0:\n",
        "  print(f\"{num} is positive\")\n",
        "else:\n",
        "  print(f\"{num} is negative\")\n",
        "\n",
        "print(\"Khushi Dugar_MCA_A_66\")"
      ],
      "metadata": {
        "colab": {
          "base_uri": "https://localhost:8080/"
        },
        "id": "_OBFKoJ1y9Y8",
        "outputId": "b8c750fd-108a-49b7-87b0-ef6e490c649d"
      },
      "execution_count": null,
      "outputs": [
        {
          "output_type": "stream",
          "name": "stdout",
          "text": [
            "Enter a number: 65\n",
            "65 is positive\n",
            "Khushi Dugar_MCA_A_66\n"
          ]
        }
      ]
    },
    {
      "cell_type": "markdown",
      "source": [
        "Q8. WAP to find maximum of three numbers"
      ],
      "metadata": {
        "id": "1aPcuu52zb52"
      }
    },
    {
      "cell_type": "code",
      "source": [
        "\n",
        "num1 = float(input(\"Enter the first number: \"))\n",
        "num2 = float(input(\"Enter the second number: \"))\n",
        "num3 = float(input(\"Enter the third number: \"))\n",
        "\n",
        "max_num = num1\n",
        "if num2 > max_num:\n",
        "    max_num = num2\n",
        "\n",
        "if num3 > max_num:\n",
        "    max_num = num3\n",
        "3\n",
        "print(f\"The maximum of the three numbers is: {max_num}\")\n",
        "print(\"Khushi Dugar_MCA_A_66\")"
      ],
      "metadata": {
        "colab": {
          "base_uri": "https://localhost:8080/"
        },
        "id": "kSCd_hqgzwHd",
        "outputId": "cb192a1b-d585-4cdd-b7ac-410615f27999"
      },
      "execution_count": 7,
      "outputs": [
        {
          "output_type": "stream",
          "name": "stdout",
          "text": [
            "Enter the first number: 10\n",
            "Enter the second number: 20\n",
            "Enter the third number: 0\n",
            "The maximum of the three numbers is: 20.0\n",
            "Khushi Dugar_MCA_A_66\n"
          ]
        }
      ]
    },
    {
      "cell_type": "markdown",
      "source": [
        "Q9.  WAP to swap two numbers."
      ],
      "metadata": {
        "id": "r4lvmhQrz8iB"
      }
    },
    {
      "cell_type": "code",
      "source": [
        "num1 = int(input(\"Enter first number:\"))\n",
        "num2 = int(input(\"Enter second number: \"))\n",
        "\n",
        "print(f\"Before swapping num1 is {num1} and num2 is {num2}\")\n",
        "\n",
        "temp = num1\n",
        "num1 = num2\n",
        "num2 = temp\n",
        "\n",
        "print(f\"After swapping num1 is {num1} and num2 is {num2}\")\n",
        "print(\"Khushi Dugar_MCA_A_66\")"
      ],
      "metadata": {
        "colab": {
          "base_uri": "https://localhost:8080/"
        },
        "id": "nUNQud9U0DBz",
        "outputId": "52d61960-3d0a-4125-bfc0-e3d626447001"
      },
      "execution_count": null,
      "outputs": [
        {
          "output_type": "stream",
          "name": "stdout",
          "text": [
            "Enter first number:10\n",
            "Enter second number: 20\n",
            "Before swapping num1 is 10 and num2 is 20\n",
            "After swapping num1 is 20 and num2 is 10\n",
            "Khushi Dugar_MCA_A_66\n"
          ]
        }
      ]
    },
    {
      "cell_type": "markdown",
      "source": [
        "Q10.  WAP to convert miles to kilometers."
      ],
      "metadata": {
        "id": "v75CqyJL0kck"
      }
    },
    {
      "cell_type": "code",
      "source": [
        "\n",
        "miles_to_km_conversion_factor = 1.60934\n",
        "\n",
        "miles = float(input(\"Enter the distance in miles: \"))\n",
        "\n",
        "kilometers = miles * miles_to_km_conversion_factor\n",
        "print(f\"{miles} miles is equal to {kilometers:.2f} kilometers.\")\n",
        "print(\"Khushi Dugar_MCA_A_66\")\n"
      ],
      "metadata": {
        "colab": {
          "base_uri": "https://localhost:8080/"
        },
        "id": "7JTLUZs-0qcY",
        "outputId": "20669900-2a14-4e1f-e148-94e746a71d4d"
      },
      "execution_count": 8,
      "outputs": [
        {
          "output_type": "stream",
          "name": "stdout",
          "text": [
            "Enter the distance in miles: 100\n",
            "100.0 miles is equal to 160.93 kilometers.\n",
            "Khushi Dugar_MCA_A_66\n"
          ]
        }
      ]
    }
  ]
}